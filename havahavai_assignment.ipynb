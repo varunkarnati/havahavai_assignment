{
  "cells": [
    {
      "cell_type": "code",
      "source": [
        "!pip install langchain langchain_groq langchain_community langchain-huggingface langchain-pinecone"
      ],
      "metadata": {
        "collapsed": true,
        "id": "10V7fH1z-WN-",
        "outputId": "5891c752-3337-4889-8086-f39e74eac01a",
        "colab": {
          "base_uri": "https://localhost:8080/"
        }
      },
      "execution_count": null,
      "outputs": [
        {
          "output_type": "stream",
          "name": "stdout",
          "text": [
            "Collecting langchain\n",
            "  Downloading langchain-0.3.4-py3-none-any.whl.metadata (7.1 kB)\n",
            "Requirement already satisfied: PyYAML>=5.3 in /usr/local/lib/python3.10/dist-packages (from langchain) (6.0.2)\n",
            "Requirement already satisfied: SQLAlchemy<3,>=1.4 in /usr/local/lib/python3.10/dist-packages (from langchain) (2.0.36)\n",
            "Requirement already satisfied: aiohttp<4.0.0,>=3.8.3 in /usr/local/lib/python3.10/dist-packages (from langchain) (3.10.10)\n",
            "Requirement already satisfied: async-timeout<5.0.0,>=4.0.0 in /usr/local/lib/python3.10/dist-packages (from langchain) (4.0.3)\n",
            "Collecting langchain-core<0.4.0,>=0.3.12 (from langchain)\n",
            "  Downloading langchain_core-0.3.13-py3-none-any.whl.metadata (6.3 kB)\n",
            "Collecting langchain-text-splitters<0.4.0,>=0.3.0 (from langchain)\n",
            "  Downloading langchain_text_splitters-0.3.0-py3-none-any.whl.metadata (2.3 kB)\n",
            "Collecting langsmith<0.2.0,>=0.1.17 (from langchain)\n",
            "  Downloading langsmith-0.1.137-py3-none-any.whl.metadata (13 kB)\n",
            "Requirement already satisfied: numpy<2,>=1 in /usr/local/lib/python3.10/dist-packages (from langchain) (1.26.4)\n",
            "Collecting pydantic<3.0.0,>=2.7.4 (from langchain)\n",
            "  Downloading pydantic-2.9.2-py3-none-any.whl.metadata (149 kB)\n",
            "\u001b[2K     \u001b[90m━━━━━━━━━━━━━━━━━━━━━━━━━━━━━━━━━━━━━━━━\u001b[0m \u001b[32m149.4/149.4 kB\u001b[0m \u001b[31m3.0 MB/s\u001b[0m eta \u001b[36m0:00:00\u001b[0m\n",
            "\u001b[?25hRequirement already satisfied: requests<3,>=2 in /usr/local/lib/python3.10/dist-packages (from langchain) (2.32.3)\n",
            "Requirement already satisfied: tenacity!=8.4.0,<10,>=8.1.0 in /usr/local/lib/python3.10/dist-packages (from langchain) (9.0.0)\n",
            "Requirement already satisfied: aiohappyeyeballs>=2.3.0 in /usr/local/lib/python3.10/dist-packages (from aiohttp<4.0.0,>=3.8.3->langchain) (2.4.3)\n",
            "Requirement already satisfied: aiosignal>=1.1.2 in /usr/local/lib/python3.10/dist-packages (from aiohttp<4.0.0,>=3.8.3->langchain) (1.3.1)\n",
            "Requirement already satisfied: attrs>=17.3.0 in /usr/local/lib/python3.10/dist-packages (from aiohttp<4.0.0,>=3.8.3->langchain) (24.2.0)\n",
            "Requirement already satisfied: frozenlist>=1.1.1 in /usr/local/lib/python3.10/dist-packages (from aiohttp<4.0.0,>=3.8.3->langchain) (1.4.1)\n",
            "Requirement already satisfied: multidict<7.0,>=4.5 in /usr/local/lib/python3.10/dist-packages (from aiohttp<4.0.0,>=3.8.3->langchain) (6.1.0)\n",
            "Requirement already satisfied: yarl<2.0,>=1.12.0 in /usr/local/lib/python3.10/dist-packages (from aiohttp<4.0.0,>=3.8.3->langchain) (1.16.0)\n",
            "Collecting jsonpatch<2.0,>=1.33 (from langchain-core<0.4.0,>=0.3.12->langchain)\n",
            "  Downloading jsonpatch-1.33-py2.py3-none-any.whl.metadata (3.0 kB)\n",
            "Requirement already satisfied: packaging<25,>=23.2 in /usr/local/lib/python3.10/dist-packages (from langchain-core<0.4.0,>=0.3.12->langchain) (24.1)\n",
            "Requirement already satisfied: typing-extensions>=4.7 in /usr/local/lib/python3.10/dist-packages (from langchain-core<0.4.0,>=0.3.12->langchain) (4.12.2)\n",
            "Collecting httpx<1,>=0.23.0 (from langsmith<0.2.0,>=0.1.17->langchain)\n",
            "  Downloading httpx-0.27.2-py3-none-any.whl.metadata (7.1 kB)\n",
            "Collecting orjson<4.0.0,>=3.9.14 (from langsmith<0.2.0,>=0.1.17->langchain)\n",
            "  Downloading orjson-3.10.10-cp310-cp310-manylinux_2_17_x86_64.manylinux2014_x86_64.whl.metadata (50 kB)\n",
            "\u001b[2K     \u001b[90m━━━━━━━━━━━━━━━━━━━━━━━━━━━━━━━━━━━━━━━━\u001b[0m \u001b[32m50.6/50.6 kB\u001b[0m \u001b[31m3.8 MB/s\u001b[0m eta \u001b[36m0:00:00\u001b[0m\n",
            "\u001b[?25hCollecting requests-toolbelt<2.0.0,>=1.0.0 (from langsmith<0.2.0,>=0.1.17->langchain)\n",
            "  Downloading requests_toolbelt-1.0.0-py2.py3-none-any.whl.metadata (14 kB)\n",
            "Requirement already satisfied: annotated-types>=0.6.0 in /usr/local/lib/python3.10/dist-packages (from pydantic<3.0.0,>=2.7.4->langchain) (0.7.0)\n",
            "Requirement already satisfied: pydantic-core==2.23.4 in /usr/local/lib/python3.10/dist-packages (from pydantic<3.0.0,>=2.7.4->langchain) (2.23.4)\n",
            "Requirement already satisfied: charset-normalizer<4,>=2 in /usr/local/lib/python3.10/dist-packages (from requests<3,>=2->langchain) (3.4.0)\n",
            "Requirement already satisfied: idna<4,>=2.5 in /usr/local/lib/python3.10/dist-packages (from requests<3,>=2->langchain) (3.10)\n",
            "Requirement already satisfied: urllib3<3,>=1.21.1 in /usr/local/lib/python3.10/dist-packages (from requests<3,>=2->langchain) (2.2.3)\n",
            "Requirement already satisfied: certifi>=2017.4.17 in /usr/local/lib/python3.10/dist-packages (from requests<3,>=2->langchain) (2024.8.30)\n",
            "Requirement already satisfied: greenlet!=0.4.17 in /usr/local/lib/python3.10/dist-packages (from SQLAlchemy<3,>=1.4->langchain) (3.1.1)\n",
            "Requirement already satisfied: anyio in /usr/local/lib/python3.10/dist-packages (from httpx<1,>=0.23.0->langsmith<0.2.0,>=0.1.17->langchain) (3.7.1)\n",
            "Collecting httpcore==1.* (from httpx<1,>=0.23.0->langsmith<0.2.0,>=0.1.17->langchain)\n",
            "  Downloading httpcore-1.0.6-py3-none-any.whl.metadata (21 kB)\n",
            "Requirement already satisfied: sniffio in /usr/local/lib/python3.10/dist-packages (from httpx<1,>=0.23.0->langsmith<0.2.0,>=0.1.17->langchain) (1.3.1)\n",
            "Collecting h11<0.15,>=0.13 (from httpcore==1.*->httpx<1,>=0.23.0->langsmith<0.2.0,>=0.1.17->langchain)\n",
            "  Downloading h11-0.14.0-py3-none-any.whl.metadata (8.2 kB)\n",
            "Collecting jsonpointer>=1.9 (from jsonpatch<2.0,>=1.33->langchain-core<0.4.0,>=0.3.12->langchain)\n",
            "  Downloading jsonpointer-3.0.0-py2.py3-none-any.whl.metadata (2.3 kB)\n",
            "Requirement already satisfied: propcache>=0.2.0 in /usr/local/lib/python3.10/dist-packages (from yarl<2.0,>=1.12.0->aiohttp<4.0.0,>=3.8.3->langchain) (0.2.0)\n",
            "Requirement already satisfied: exceptiongroup in /usr/local/lib/python3.10/dist-packages (from anyio->httpx<1,>=0.23.0->langsmith<0.2.0,>=0.1.17->langchain) (1.2.2)\n",
            "Downloading langchain-0.3.4-py3-none-any.whl (1.0 MB)\n",
            "\u001b[2K   \u001b[90m━━━━━━━━━━━━━━━━━━━━━━━━━━━━━━━━━━━━━━━━\u001b[0m \u001b[32m1.0/1.0 MB\u001b[0m \u001b[31m21.9 MB/s\u001b[0m eta \u001b[36m0:00:00\u001b[0m\n",
            "\u001b[?25hDownloading langchain_core-0.3.13-py3-none-any.whl (408 kB)\n",
            "\u001b[2K   \u001b[90m━━━━━━━━━━━━━━━━━━━━━━━━━━━━━━━━━━━━━━━━\u001b[0m \u001b[32m408.0/408.0 kB\u001b[0m \u001b[31m29.4 MB/s\u001b[0m eta \u001b[36m0:00:00\u001b[0m\n",
            "\u001b[?25hDownloading langchain_text_splitters-0.3.0-py3-none-any.whl (25 kB)\n",
            "Downloading langsmith-0.1.137-py3-none-any.whl (296 kB)\n",
            "\u001b[2K   \u001b[90m━━━━━━━━━━━━━━━━━━━━━━━━━━━━━━━━━━━━━━━━\u001b[0m \u001b[32m296.9/296.9 kB\u001b[0m \u001b[31m21.8 MB/s\u001b[0m eta \u001b[36m0:00:00\u001b[0m\n",
            "\u001b[?25hDownloading pydantic-2.9.2-py3-none-any.whl (434 kB)\n",
            "\u001b[2K   \u001b[90m━━━━━━━━━━━━━━━━━━━━━━━━━━━━━━━━━━━━━━━━\u001b[0m \u001b[32m434.9/434.9 kB\u001b[0m \u001b[31m28.7 MB/s\u001b[0m eta \u001b[36m0:00:00\u001b[0m\n",
            "\u001b[?25hDownloading httpx-0.27.2-py3-none-any.whl (76 kB)\n",
            "\u001b[2K   \u001b[90m━━━━━━━━━━━━━━━━━━━━━━━━━━━━━━━━━━━━━━━━\u001b[0m \u001b[32m76.4/76.4 kB\u001b[0m \u001b[31m6.0 MB/s\u001b[0m eta \u001b[36m0:00:00\u001b[0m\n",
            "\u001b[?25hDownloading httpcore-1.0.6-py3-none-any.whl (78 kB)\n",
            "\u001b[2K   \u001b[90m━━━━━━━━━━━━━━━━━━━━━━━━━━━━━━━━━━━━━━━━\u001b[0m \u001b[32m78.0/78.0 kB\u001b[0m \u001b[31m5.9 MB/s\u001b[0m eta \u001b[36m0:00:00\u001b[0m\n",
            "\u001b[?25hDownloading jsonpatch-1.33-py2.py3-none-any.whl (12 kB)\n",
            "Downloading orjson-3.10.10-cp310-cp310-manylinux_2_17_x86_64.manylinux2014_x86_64.whl (144 kB)\n",
            "\u001b[2K   \u001b[90m━━━━━━━━━━━━━━━━━━━━━━━━━━━━━━━━━━━━━━━━\u001b[0m \u001b[32m144.5/144.5 kB\u001b[0m \u001b[31m10.6 MB/s\u001b[0m eta \u001b[36m0:00:00\u001b[0m\n",
            "\u001b[?25hDownloading requests_toolbelt-1.0.0-py2.py3-none-any.whl (54 kB)\n",
            "\u001b[2K   \u001b[90m━━━━━━━━━━━━━━━━━━━━━━━━━━━━━━━━━━━━━━━━\u001b[0m \u001b[32m54.5/54.5 kB\u001b[0m \u001b[31m4.4 MB/s\u001b[0m eta \u001b[36m0:00:00\u001b[0m\n",
            "\u001b[?25hDownloading jsonpointer-3.0.0-py2.py3-none-any.whl (7.6 kB)\n",
            "Downloading h11-0.14.0-py3-none-any.whl (58 kB)\n",
            "\u001b[2K   \u001b[90m━━━━━━━━━━━━━━━━━━━━━━━━━━━━━━━━━━━━━━━━\u001b[0m \u001b[32m58.3/58.3 kB\u001b[0m \u001b[31m5.0 MB/s\u001b[0m eta \u001b[36m0:00:00\u001b[0m\n",
            "\u001b[?25hInstalling collected packages: orjson, jsonpointer, h11, requests-toolbelt, pydantic, jsonpatch, httpcore, httpx, langsmith, langchain-core, langchain-text-splitters, langchain\n",
            "  Attempting uninstall: pydantic\n",
            "    Found existing installation: pydantic 1.10.18\n",
            "    Uninstalling pydantic-1.10.18:\n",
            "      Successfully uninstalled pydantic-1.10.18\n",
            "\u001b[31mERROR: pip's dependency resolver does not currently take into account all the packages that are installed. This behaviour is the source of the following dependency conflicts.\n",
            "pinecone-datasets 0.7.0 requires pydantic<2.0.0,>=1.10.5, but you have pydantic 2.9.2 which is incompatible.\u001b[0m\u001b[31m\n",
            "\u001b[0mSuccessfully installed h11-0.14.0 httpcore-1.0.6 httpx-0.27.2 jsonpatch-1.33 jsonpointer-3.0.0 langchain-0.3.4 langchain-core-0.3.13 langchain-text-splitters-0.3.0 langsmith-0.1.137 orjson-3.10.10 pydantic-2.9.2 requests-toolbelt-1.0.0\n"
          ]
        }
      ]
    },
    {
      "cell_type": "code",
      "execution_count": null,
      "metadata": {
        "colab": {
          "base_uri": "https://localhost:8080/"
        },
        "id": "VpMvHAYRQf9N",
        "outputId": "e66233ce-f37a-41c6-f92c-3a6a8ae1cb9d",
        "collapsed": true
      },
      "outputs": [
        {
          "output_type": "stream",
          "name": "stdout",
          "text": [
            "\u001b[2K     \u001b[90m━━━━━━━━━━━━━━━━━━━━━━━━━━━━━━━━━━━━━━━━\u001b[0m \u001b[32m57.6/57.6 kB\u001b[0m \u001b[31m2.6 MB/s\u001b[0m eta \u001b[36m0:00:00\u001b[0m\n",
            "\u001b[2K     \u001b[90m━━━━━━━━━━━━━━━━━━━━━━━━━━━━━━━━━━━━━━━━\u001b[0m \u001b[32m152.2/152.2 kB\u001b[0m \u001b[31m7.0 MB/s\u001b[0m eta \u001b[36m0:00:00\u001b[0m\n",
            "\u001b[2K   \u001b[90m━━━━━━━━━━━━━━━━━━━━━━━━━━━━━━━━━━━━━━━━\u001b[0m \u001b[32m72.0/72.0 kB\u001b[0m \u001b[31m4.1 MB/s\u001b[0m eta \u001b[36m0:00:00\u001b[0m\n",
            "\u001b[2K   \u001b[90m━━━━━━━━━━━━━━━━━━━━━━━━━━━━━━━━━━━━━━━━\u001b[0m \u001b[32m211.0/211.0 kB\u001b[0m \u001b[31m13.4 MB/s\u001b[0m eta \u001b[36m0:00:00\u001b[0m\n",
            "\u001b[2K   \u001b[90m━━━━━━━━━━━━━━━━━━━━━━━━━━━━━━━━━━━━━━━━\u001b[0m \u001b[32m78.3/78.3 kB\u001b[0m \u001b[31m5.2 MB/s\u001b[0m eta \u001b[36m0:00:00\u001b[0m\n",
            "\u001b[2K   \u001b[90m━━━━━━━━━━━━━━━━━━━━━━━━━━━━━━━━━━━━━━━━\u001b[0m \u001b[32m169.0/169.0 kB\u001b[0m \u001b[31m10.7 MB/s\u001b[0m eta \u001b[36m0:00:00\u001b[0m\n",
            "\u001b[2K   \u001b[90m━━━━━━━━━━━━━━━━━━━━━━━━━━━━━━━━━━━━━━━━\u001b[0m \u001b[32m34.9/34.9 MB\u001b[0m \u001b[31m47.6 MB/s\u001b[0m eta \u001b[36m0:00:00\u001b[0m\n",
            "\u001b[2K   \u001b[90m━━━━━━━━━━━━━━━━━━━━━━━━━━━━━━━━━━━━━━━━\u001b[0m \u001b[32m3.1/3.1 MB\u001b[0m \u001b[31m73.1 MB/s\u001b[0m eta \u001b[36m0:00:00\u001b[0m\n",
            "\u001b[2K   \u001b[90m━━━━━━━━━━━━━━━━━━━━━━━━━━━━━━━━━━━━━━━━\u001b[0m \u001b[32m77.4/77.4 kB\u001b[0m \u001b[31m5.2 MB/s\u001b[0m eta \u001b[36m0:00:00\u001b[0m\n",
            "\u001b[2K   \u001b[90m━━━━━━━━━━━━━━━━━━━━━━━━━━━━━━━━━━━━━━━━\u001b[0m \u001b[32m12.6/12.6 MB\u001b[0m \u001b[31m77.8 MB/s\u001b[0m eta \u001b[36m0:00:00\u001b[0m\n",
            "\u001b[?25h\u001b[31mERROR: pip's dependency resolver does not currently take into account all the packages that are installed. This behaviour is the source of the following dependency conflicts.\n",
            "albumentations 1.4.15 requires pydantic>=2.7.0, but you have pydantic 1.10.18 which is incompatible.\n",
            "cudf-cu12 24.10.1 requires pyarrow<18.0.0a0,>=14.0.0, but you have pyarrow 11.0.0 which is incompatible.\n",
            "pylibcudf-cu12 24.10.1 requires pyarrow<18.0.0a0,>=14.0.0, but you have pyarrow 11.0.0 which is incompatible.\u001b[0m\u001b[31m\n",
            "\u001b[0m"
          ]
        }
      ],
      "source": [
        "!pip install -qU \\\n",
        "    openai==0.27.7 \\\n",
        "    pinecone-client==3.1.0 \\\n",
        "    pinecone-datasets==0.7.0 \\\n",
        "    tqdm \\\n",
        "    pinecone-notebooks==0.1.1"
      ]
    },
    {
      "cell_type": "code",
      "source": [
        "import json\n",
        "from datetime import datetime\n",
        "from typing import Dict, List\n",
        "\n",
        "from langchain.embeddings import HuggingFaceEmbeddings\n",
        "from langchain_groq import ChatGroq\n",
        "from langchain.schema import Document\n",
        "\n",
        "\n",
        "\n",
        "def format_datetime(date_str: str) :\n",
        "\n",
        "    dt = datetime.fromisoformat(date_str.replace('Z', '+00:00'))\n",
        "    return dt.strftime(\"%Y-%m-%d %H:%M\")\n",
        "\n",
        "def create_documents(booking_data: Dict) :\n",
        "\n",
        "    documents = []\n",
        "    user_id = booking_data['user']['id']\n",
        "\n",
        "    for flight in booking_data['user']['flights']:\n",
        "        # Main flight details document\n",
        "        flight_text = (\n",
        "            f\"Flight Booking Details:\\n\"\n",
        "            f\"PNR: {flight['pnr']}\\n\"\n",
        "            f\"Class: {flight['class']}\\n\"\n",
        "            f\"From: {flight['source']}\\n\"\n",
        "            f\"To: {flight['destination']}\\n\"\n",
        "            f\"Departure: {format_datetime(flight['departure_date'])}\\n\"\n",
        "            f\"Arrival: {format_datetime(flight['arrival_date'])}\\n\"\n",
        "            f\"Layover Duration: {flight['layover_duration']}\"\n",
        "        )\n",
        "\n",
        "        documents.append(Document(\n",
        "            page_content=flight_text,\n",
        "            metadata={\n",
        "                'type': 'flight',\n",
        "                'user_id': user_id,\n",
        "                'ticket_id': flight['ticket_id'],\n",
        "                'pnr': flight['pnr']\n",
        "            }\n",
        "        ))\n",
        "\n",
        "        # Process each flight segment\n",
        "        for idx, segment in enumerate(flight['segments']):\n",
        "            segment_text = (\n",
        "                f\"Flight Segment {idx + 1}:\\n\"\n",
        "                f\"Flight Number: {segment['flight_number']}\\n\"\n",
        "                f\"From: {segment['departure']['airport']} ({segment['departure']['iata']})\\n\"\n",
        "                f\"To: {segment['arrival']['airport']} ({segment['arrival']['iata']})\\n\"\n",
        "                f\"Departure: {format_datetime(segment['departure']['date'])}\\n\"\n",
        "                f\"Arrival: {format_datetime(segment['arrival']['date'])}\\n\\n\"\n",
        "                f\"Passenger Details for this segment:\"\n",
        "            )\n",
        "\n",
        "            # Add passenger details\n",
        "            for passenger in segment['passengers']:\n",
        "                segment_text += f\"\\n- {passenger['first_name']} {passenger['last_name']}:\"\n",
        "                segment_text += f\"\\n  Seat: {passenger['seat_number']}\"\n",
        "                segment_text += f\"\\n  Cabin Baggage: {passenger['cabin_baggage']}\"\n",
        "                segment_text += f\"\\n  Check-in Baggage: {passenger['check_in_baggage']}\"\n",
        "\n",
        "            documents.append(Document(\n",
        "                page_content=segment_text,\n",
        "                metadata={\n",
        "                    'type': 'segment',\n",
        "                    'user_id': user_id,\n",
        "                    'ticket_id': flight['ticket_id'],\n",
        "                    'pnr': flight['pnr'],\n",
        "                    'flight_number': segment['flight_number'],\n",
        "                    'segment_number': idx\n",
        "                }\n",
        "            ))\n",
        "\n",
        "    return documents\n"
      ],
      "metadata": {
        "id": "6sgE9JTj-Fnj"
      },
      "execution_count": null,
      "outputs": []
    },
    {
      "cell_type": "code",
      "execution_count": null,
      "metadata": {
        "id": "33tlW3xS9_7s",
        "outputId": "d75e975a-0649-4205-846e-c0b97889d9ea",
        "colab": {
          "base_uri": "https://localhost:8080/",
          "height": 247
        }
      },
      "outputs": [
        {
          "output_type": "display_data",
          "data": {
            "text/plain": [
              "<IPython.core.display.HTML object>"
            ],
            "text/html": [
              "<script type=\"text/javascript\" src=\"https://connect.pinecone.io/embed.js\"></script>"
            ]
          },
          "metadata": {}
        }
      ],
      "source": [
        "import os\n",
        "\n",
        "if not os.environ.get(\"PINECONE_API_KEY\"):\n",
        "    from pinecone_notebooks.colab import Authenticate\n",
        "    Authenticate()"
      ]
    },
    {
      "cell_type": "code",
      "source": [
        "embeddings=HuggingFaceEmbeddings(model_name='sentence-transformers/all-MiniLM-L6-v2')"
      ],
      "metadata": {
        "id": "owb1XxjuC06p",
        "outputId": "cda6f25e-c0b1-4672-9c57-5eabb17de68c",
        "colab": {
          "base_uri": "https://localhost:8080/"
        }
      },
      "execution_count": null,
      "outputs": [
        {
          "output_type": "stream",
          "name": "stderr",
          "text": [
            "/usr/local/lib/python3.10/dist-packages/transformers/tokenization_utils_base.py:1601: FutureWarning: `clean_up_tokenization_spaces` was not set. It will be set to `True` by default. This behavior will be depracted in transformers v4.45, and will be then set to `False` by default. For more details check this issue: https://github.com/huggingface/transformers/issues/31884\n",
            "  warnings.warn(\n"
          ]
        }
      ]
    },
    {
      "cell_type": "code",
      "execution_count": null,
      "metadata": {
        "id": "KPXw1sEubwoF"
      },
      "outputs": [],
      "source": [
        "from pinecone import Pinecone\n",
        "from langchain_pinecone import PineconeVectorStore\n",
        "\n",
        "\n",
        "api_key = os.environ.get(\"PINECONE_API_KEY\")\n",
        "\n",
        "# configure client\n",
        "pc = Pinecone(api_key=api_key,embeddings=embeddings)"
      ]
    },
    {
      "cell_type": "code",
      "execution_count": null,
      "metadata": {
        "id": "AWFjG54mbwoG"
      },
      "outputs": [],
      "source": [
        "from pinecone import ServerlessSpec\n",
        "\n",
        "cloud = os.environ.get('PINECONE_CLOUD') or 'aws'\n",
        "region = os.environ.get('PINECONE_REGION') or 'us-east-1'\n",
        "\n",
        "spec = ServerlessSpec(cloud=cloud, region=region)"
      ]
    },
    {
      "cell_type": "code",
      "execution_count": null,
      "metadata": {
        "id": "L4C_TQWcFeLY",
        "tags": [
          "parameters"
        ]
      },
      "outputs": [],
      "source": [
        "index_name = 'havahavai1'"
      ]
    },
    {
      "cell_type": "code",
      "execution_count": null,
      "metadata": {
        "colab": {
          "base_uri": "https://localhost:8080/"
        },
        "id": "UPNwQTH0RNcl",
        "outputId": "e97fdc8a-5a07-486c-edf2-18f2d89133e8"
      },
      "outputs": [
        {
          "output_type": "execute_result",
          "data": {
            "text/plain": [
              "{'dimension': 384,\n",
              " 'index_fullness': 0.0,\n",
              " 'namespaces': {},\n",
              " 'total_vector_count': 0}"
            ]
          },
          "metadata": {},
          "execution_count": 31
        }
      ],
      "source": [
        "# check if index already exists (it shouldn't if this is first time)\n",
        "if index_name not in pc.list_indexes().names():\n",
        "    # if does not exist, create index\n",
        "    pc.create_index(\n",
        "        index_name,\n",
        "        dimension=384,  # dimensionality of text-embedding-ada-002\n",
        "        metric='cosine',\n",
        "        spec=spec\n",
        "    )\n",
        "# connect to index\n",
        "index = pc.Index(index_name)\n",
        "# view index stats\n",
        "index.describe_index_stats()"
      ]
    },
    {
      "cell_type": "code",
      "source": [
        "with open(\"/content/Journey_Details.json\", 'r') as f:\n",
        "        booking_data = json.load(f)\n",
        "\n",
        "documents = create_documents(booking_data)"
      ],
      "metadata": {
        "id": "A2y0-OAk_HjU"
      },
      "execution_count": null,
      "outputs": []
    },
    {
      "cell_type": "code",
      "source": [
        "print(documents)"
      ],
      "metadata": {
        "id": "TJW2Exac_QJq",
        "outputId": "f289d6f5-4764-4bd9-b232-986e73b42b45",
        "colab": {
          "base_uri": "https://localhost:8080/"
        }
      },
      "execution_count": null,
      "outputs": [
        {
          "output_type": "stream",
          "name": "stdout",
          "text": [
            "[Document(metadata={'type': 'flight', 'user_id': 227, 'ticket_id': 3183, 'pnr': 'HZAVJJ'}, page_content='Flight Booking Details:\\nPNR: HZAVJJ\\nClass: ECONOMY\\nFrom: Cape Town International Airport (CPT)\\nTo: Indira Gandhi International Airport (DEL)\\nDeparture: 2024-07-11 14:35\\nArrival: 2024-07-12 08:10\\nLayover Duration: 55m'), Document(metadata={'type': 'segment', 'user_id': 227, 'ticket_id': 3183, 'pnr': 'HZAVJJ', 'flight_number': 'ET846', 'segment_number': 0}, page_content='Flight Segment 1:\\nFlight Number: ET846\\nFrom: Cape Town International Airport (CPT)\\nTo: Addis Ababa Bole International Airport (ADD)\\nDeparture: 2024-07-11 14:35\\nArrival: 2024-07-11 22:00\\n\\nPassenger Details for this segment:\\n- surendra singh:\\n  Seat: 21a\\n  Cabin Baggage: 7kg\\n  Check-in Baggage: 23kg\\n- narinder kaur:\\n  Seat: 21b\\n  Cabin Baggage: 7kg\\n  Check-in Baggage: 23kg\\n- samik singh:\\n  Seat: 21c\\n  Cabin Baggage: 7kg\\n  Check-in Baggage: 23kg'), Document(metadata={'type': 'segment', 'user_id': 227, 'ticket_id': 3183, 'pnr': 'HZAVJJ', 'flight_number': 'ET686', 'segment_number': 1}, page_content='Flight Segment 2:\\nFlight Number: ET686\\nFrom: Addis Ababa Bole International Airport (ADD)\\nTo: Indira Gandhi International Airport (DEL)\\nDeparture: 2024-07-11 22:55\\nArrival: 2024-07-12 08:10\\n\\nPassenger Details for this segment:\\n- surendra singh:\\n  Seat: 21a\\n  Cabin Baggage: 7kg\\n  Check-in Baggage: 23kg\\n- narinder kaur:\\n  Seat: 21b\\n  Cabin Baggage: 7kg\\n  Check-in Baggage: 23kg\\n- samik singh:\\n  Seat: 21c\\n  Cabin Baggage: 7kg\\n  Check-in Baggage: 23kg')]\n"
          ]
        }
      ]
    },
    {
      "cell_type": "code",
      "execution_count": null,
      "metadata": {
        "id": "vPb9liovzrc8"
      },
      "outputs": [],
      "source": [
        "vectorstore = PineconeVectorStore(index_name=index_name, embedding=embeddings)"
      ]
    },
    {
      "cell_type": "code",
      "source": [
        "# documents = create_documents(booking_data)\n",
        "vectorstore.add_documents(documents)"
      ],
      "metadata": {
        "id": "STLJiuqFBkoI",
        "outputId": "3a887afd-569f-4b6c-8021-4137f205dec2",
        "colab": {
          "base_uri": "https://localhost:8080/"
        }
      },
      "execution_count": null,
      "outputs": [
        {
          "output_type": "execute_result",
          "data": {
            "text/plain": [
              "['f2d5832a-5a44-419e-a112-fd2f477949e2',\n",
              " 'db355bcb-4de4-4f4b-ba2a-bc5b402e9a2d',\n",
              " '0bad9075-85df-4f4d-8bb1-d97d50a71a56']"
            ]
          },
          "metadata": {},
          "execution_count": 33
        }
      ]
    },
    {
      "cell_type": "markdown",
      "metadata": {
        "id": "VfP0TQVeG1hO"
      },
      "source": [
        "## Retrieval"
      ]
    },
    {
      "cell_type": "code",
      "execution_count": null,
      "metadata": {
        "id": "2O0kRYO8G7Qi"
      },
      "outputs": [],
      "source": [
        "from langchain_groq import ChatGroq\n",
        "\n",
        "# get api key from platform.openai.com\n",
        "groq_api_key = os.getenv('GROQ_API_KEY') or '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'\n",
        "\n"
      ]
    },
    {
      "cell_type": "code",
      "execution_count": null,
      "metadata": {
        "id": "LF1U_yZGojRJ",
        "outputId": "7b05c06c-81f1-4a9e-bd4b-e3ee6082efcb",
        "colab": {
          "base_uri": "https://localhost:8080/"
        }
      },
      "outputs": [
        {
          "output_type": "stream",
          "name": "stdout",
          "text": [
            "[Document(id='db355bcb-4de4-4f4b-ba2a-bc5b402e9a2d', metadata={'flight_number': 'ET846', 'pnr': 'HZAVJJ', 'segment_number': 0.0, 'ticket_id': 3183.0, 'type': 'segment', 'user_id': 227.0}, page_content='Flight Segment 1:\\nFlight Number: ET846\\nFrom: Cape Town International Airport (CPT)\\nTo: Addis Ababa Bole International Airport (ADD)\\nDeparture: 2024-07-11 14:35\\nArrival: 2024-07-11 22:00\\n\\nPassenger Details for this segment:\\n- surendra singh:\\n  Seat: 21a\\n  Cabin Baggage: 7kg\\n  Check-in Baggage: 23kg\\n- narinder kaur:\\n  Seat: 21b\\n  Cabin Baggage: 7kg\\n  Check-in Baggage: 23kg\\n- samik singh:\\n  Seat: 21c\\n  Cabin Baggage: 7kg\\n  Check-in Baggage: 23kg'), Document(id='f2d5832a-5a44-419e-a112-fd2f477949e2', metadata={'pnr': 'HZAVJJ', 'ticket_id': 3183.0, 'type': 'flight', 'user_id': 227.0}, page_content='Flight Booking Details:\\nPNR: HZAVJJ\\nClass: ECONOMY\\nFrom: Cape Town International Airport (CPT)\\nTo: Indira Gandhi International Airport (DEL)\\nDeparture: 2024-07-11 14:35\\nArrival: 2024-07-12 08:10\\nLayover Duration: 55m'), Document(id='0bad9075-85df-4f4d-8bb1-d97d50a71a56', metadata={'flight_number': 'ET686', 'pnr': 'HZAVJJ', 'segment_number': 1.0, 'ticket_id': 3183.0, 'type': 'segment', 'user_id': 227.0}, page_content='Flight Segment 2:\\nFlight Number: ET686\\nFrom: Addis Ababa Bole International Airport (ADD)\\nTo: Indira Gandhi International Airport (DEL)\\nDeparture: 2024-07-11 22:55\\nArrival: 2024-07-12 08:10\\n\\nPassenger Details for this segment:\\n- surendra singh:\\n  Seat: 21a\\n  Cabin Baggage: 7kg\\n  Check-in Baggage: 23kg\\n- narinder kaur:\\n  Seat: 21b\\n  Cabin Baggage: 7kg\\n  Check-in Baggage: 23kg\\n- samik singh:\\n  Seat: 21c\\n  Cabin Baggage: 7kg\\n  Check-in Baggage: 23kg')]\n"
          ]
        }
      ],
      "source": [
        "query = (\n",
        "    \"What time is my flight from Cape Town to Addis Ababa, and what's the arrival time? \"\n",
        ")\n",
        "\n",
        "res = embeddings.embed_query(query)\n",
        "sim=vectorstore.similarity_search(query)\n",
        "\n",
        "print(sim)"
      ]
    },
    {
      "cell_type": "markdown",
      "metadata": {
        "id": "A5dDWPGoIrd9"
      },
      "source": [
        "We write some functions to handle the retrieval and completion steps:"
      ]
    },
    {
      "cell_type": "code",
      "source": [
        "from langchain.chains import RetrievalQAWithSourcesChain\n",
        "from langchain.memory import ConversationBufferMemory\n",
        "\n",
        "from langchain.prompts import ChatPromptTemplate"
      ],
      "metadata": {
        "id": "-S_jrEijFASb"
      },
      "execution_count": null,
      "outputs": []
    },
    {
      "cell_type": "code",
      "source": [
        "\n",
        "def create_qa_chain(vectorstorePineconeVectorStore,groq_api_key):\n",
        "    \"\"\"Create the QA chain with custom prompt\"\"\"\n",
        "    # Initialize language model\n",
        "    llm = ChatGroq(\n",
        "        api_key=groq_api_key,\n",
        "        temperature=0,\n",
        "        model_name=\"llama-3.1-8b-instant\"\n",
        "    )\n",
        "\n",
        "    # Create conversation memory\n",
        "    memory = ConversationBufferMemory(\n",
        "        memory_key=\"chat_history\",\n",
        "        return_messages=True\n",
        "    )\n",
        "\n",
        "    # Define custom prompt template\n",
        "    prompt_template = \"\"\"You are a helpful flight booking assistant. Use the following pieces of context to answer the user's question.\n",
        "    If you don't know the answer, just say that you don't know, don't try to make up an answer.\n",
        "    Always maintain a professional and friendly tone.\n",
        "    Format dates and times in a readable way.\n",
        "    If multiple passengers are involved, list their details clearly.\n",
        "    For questions about baggage, specify both cabin and check-in allowances.\n",
        "    For layover questions, include both the location and duration.\n",
        "\n",
        "    Context: {context}\n",
        "\n",
        "    Chat History: {chat_history}\n",
        "\n",
        "    Question: {question}\n",
        "\n",
        "    Assistant: \"\"\"\n",
        "\n",
        "    PROMPT = ChatPromptTemplate.from_template(prompt_template)\n",
        "\n",
        "    return ConversationalRetrievalChain.from_llm(\n",
        "        llm=llm,\n",
        "        retriever=vectorstore.as_retriever(\n",
        "            search_type=\"similarity\",\n",
        "            search_kwargs={\"k\": 1}\n",
        "        ),\n",
        "        memory=memory,\n",
        "        combine_docs_chain_kwargs={\"prompt\": PROMPT}\n",
        "    )"
      ],
      "metadata": {
        "id": "is4IJYIUK6N3"
      },
      "execution_count": null,
      "outputs": []
    },
    {
      "cell_type": "code",
      "source": [
        "qa_chain = create_qa_chain(vectorstore, groq_api_key)"
      ],
      "metadata": {
        "id": "Uu_zV_rEFF_U"
      },
      "execution_count": null,
      "outputs": []
    },
    {
      "cell_type": "code",
      "source": [
        "def get_chatbot_response(question: str, qa_chain: ConversationalRetrievalChain) -> str:\n",
        "    \"\"\"Get response from the chatbot for a given question\"\"\"\n",
        "    response = qa_chain.invoke({\"question\": question})\n",
        "    print(vectorstore.similarity_search(question))\n",
        "    return response['answer']"
      ],
      "metadata": {
        "id": "l2MJmsZMFYLT"
      },
      "execution_count": null,
      "outputs": []
    },
    {
      "cell_type": "code",
      "source": [
        "questions = [\n",
        "    \"What time do I arrive in Delhi?\",\n",
        "    \"Where is my layover?\",\n",
        "    \"What’s my seat for the first flight?\",\n",
        "    \"Do I have checked baggage?\"\n",
        "]\n",
        "\n",
        "for question in questions:\n",
        "    response = get_chatbot_response(question, qa_chain)\n",
        "    print(f\"\\nQ: {question}\")\n",
        "    print(f\"A: {response}\\n\")"
      ],
      "metadata": {
        "id": "hmbF7sEXFc1E",
        "outputId": "991a54b6-3ad0-4eea-85a0-ed545190fd2e",
        "colab": {
          "base_uri": "https://localhost:8080/"
        }
      },
      "execution_count": null,
      "outputs": [
        {
          "output_type": "stream",
          "name": "stdout",
          "text": [
            "[Document(id='f2d5832a-5a44-419e-a112-fd2f477949e2', metadata={'pnr': 'HZAVJJ', 'ticket_id': 3183.0, 'type': 'flight', 'user_id': 227.0}, page_content='Flight Booking Details:\\nPNR: HZAVJJ\\nClass: ECONOMY\\nFrom: Cape Town International Airport (CPT)\\nTo: Indira Gandhi International Airport (DEL)\\nDeparture: 2024-07-11 14:35\\nArrival: 2024-07-12 08:10\\nLayover Duration: 55m'), Document(id='0bad9075-85df-4f4d-8bb1-d97d50a71a56', metadata={'flight_number': 'ET686', 'pnr': 'HZAVJJ', 'segment_number': 1.0, 'ticket_id': 3183.0, 'type': 'segment', 'user_id': 227.0}, page_content='Flight Segment 2:\\nFlight Number: ET686\\nFrom: Addis Ababa Bole International Airport (ADD)\\nTo: Indira Gandhi International Airport (DEL)\\nDeparture: 2024-07-11 22:55\\nArrival: 2024-07-12 08:10\\n\\nPassenger Details for this segment:\\n- surendra singh:\\n  Seat: 21a\\n  Cabin Baggage: 7kg\\n  Check-in Baggage: 23kg\\n- narinder kaur:\\n  Seat: 21b\\n  Cabin Baggage: 7kg\\n  Check-in Baggage: 23kg\\n- samik singh:\\n  Seat: 21c\\n  Cabin Baggage: 7kg\\n  Check-in Baggage: 23kg'), Document(id='db355bcb-4de4-4f4b-ba2a-bc5b402e9a2d', metadata={'flight_number': 'ET846', 'pnr': 'HZAVJJ', 'segment_number': 0.0, 'ticket_id': 3183.0, 'type': 'segment', 'user_id': 227.0}, page_content='Flight Segment 1:\\nFlight Number: ET846\\nFrom: Cape Town International Airport (CPT)\\nTo: Addis Ababa Bole International Airport (ADD)\\nDeparture: 2024-07-11 14:35\\nArrival: 2024-07-11 22:00\\n\\nPassenger Details for this segment:\\n- surendra singh:\\n  Seat: 21a\\n  Cabin Baggage: 7kg\\n  Check-in Baggage: 23kg\\n- narinder kaur:\\n  Seat: 21b\\n  Cabin Baggage: 7kg\\n  Check-in Baggage: 23kg\\n- samik singh:\\n  Seat: 21c\\n  Cabin Baggage: 7kg\\n  Check-in Baggage: 23kg')]\n",
            "\n",
            "Q: What time do I arrive in Delhi?\n",
            "A: You will arrive in Delhi at 2024-07-12 08:10.\n",
            "\n",
            "[Document(id='f2d5832a-5a44-419e-a112-fd2f477949e2', metadata={'pnr': 'HZAVJJ', 'ticket_id': 3183.0, 'type': 'flight', 'user_id': 227.0}, page_content='Flight Booking Details:\\nPNR: HZAVJJ\\nClass: ECONOMY\\nFrom: Cape Town International Airport (CPT)\\nTo: Indira Gandhi International Airport (DEL)\\nDeparture: 2024-07-11 14:35\\nArrival: 2024-07-12 08:10\\nLayover Duration: 55m'), Document(id='0bad9075-85df-4f4d-8bb1-d97d50a71a56', metadata={'flight_number': 'ET686', 'pnr': 'HZAVJJ', 'segment_number': 1.0, 'ticket_id': 3183.0, 'type': 'segment', 'user_id': 227.0}, page_content='Flight Segment 2:\\nFlight Number: ET686\\nFrom: Addis Ababa Bole International Airport (ADD)\\nTo: Indira Gandhi International Airport (DEL)\\nDeparture: 2024-07-11 22:55\\nArrival: 2024-07-12 08:10\\n\\nPassenger Details for this segment:\\n- surendra singh:\\n  Seat: 21a\\n  Cabin Baggage: 7kg\\n  Check-in Baggage: 23kg\\n- narinder kaur:\\n  Seat: 21b\\n  Cabin Baggage: 7kg\\n  Check-in Baggage: 23kg\\n- samik singh:\\n  Seat: 21c\\n  Cabin Baggage: 7kg\\n  Check-in Baggage: 23kg'), Document(id='db355bcb-4de4-4f4b-ba2a-bc5b402e9a2d', metadata={'flight_number': 'ET846', 'pnr': 'HZAVJJ', 'segment_number': 0.0, 'ticket_id': 3183.0, 'type': 'segment', 'user_id': 227.0}, page_content='Flight Segment 1:\\nFlight Number: ET846\\nFrom: Cape Town International Airport (CPT)\\nTo: Addis Ababa Bole International Airport (ADD)\\nDeparture: 2024-07-11 14:35\\nArrival: 2024-07-11 22:00\\n\\nPassenger Details for this segment:\\n- surendra singh:\\n  Seat: 21a\\n  Cabin Baggage: 7kg\\n  Check-in Baggage: 23kg\\n- narinder kaur:\\n  Seat: 21b\\n  Cabin Baggage: 7kg\\n  Check-in Baggage: 23kg\\n- samik singh:\\n  Seat: 21c\\n  Cabin Baggage: 7kg\\n  Check-in Baggage: 23kg')]\n",
            "\n",
            "Q: Where is my layover?\n",
            "A: Your layover is located at the Indira Gandhi International Airport (DEL) in Delhi, India. The layover duration is 55 minutes.\n",
            "\n",
            "[Document(id='db355bcb-4de4-4f4b-ba2a-bc5b402e9a2d', metadata={'flight_number': 'ET846', 'pnr': 'HZAVJJ', 'segment_number': 0.0, 'ticket_id': 3183.0, 'type': 'segment', 'user_id': 227.0}, page_content='Flight Segment 1:\\nFlight Number: ET846\\nFrom: Cape Town International Airport (CPT)\\nTo: Addis Ababa Bole International Airport (ADD)\\nDeparture: 2024-07-11 14:35\\nArrival: 2024-07-11 22:00\\n\\nPassenger Details for this segment:\\n- surendra singh:\\n  Seat: 21a\\n  Cabin Baggage: 7kg\\n  Check-in Baggage: 23kg\\n- narinder kaur:\\n  Seat: 21b\\n  Cabin Baggage: 7kg\\n  Check-in Baggage: 23kg\\n- samik singh:\\n  Seat: 21c\\n  Cabin Baggage: 7kg\\n  Check-in Baggage: 23kg'), Document(id='0bad9075-85df-4f4d-8bb1-d97d50a71a56', metadata={'flight_number': 'ET686', 'pnr': 'HZAVJJ', 'segment_number': 1.0, 'ticket_id': 3183.0, 'type': 'segment', 'user_id': 227.0}, page_content='Flight Segment 2:\\nFlight Number: ET686\\nFrom: Addis Ababa Bole International Airport (ADD)\\nTo: Indira Gandhi International Airport (DEL)\\nDeparture: 2024-07-11 22:55\\nArrival: 2024-07-12 08:10\\n\\nPassenger Details for this segment:\\n- surendra singh:\\n  Seat: 21a\\n  Cabin Baggage: 7kg\\n  Check-in Baggage: 23kg\\n- narinder kaur:\\n  Seat: 21b\\n  Cabin Baggage: 7kg\\n  Check-in Baggage: 23kg\\n- samik singh:\\n  Seat: 21c\\n  Cabin Baggage: 7kg\\n  Check-in Baggage: 23kg'), Document(id='f2d5832a-5a44-419e-a112-fd2f477949e2', metadata={'pnr': 'HZAVJJ', 'ticket_id': 3183.0, 'type': 'flight', 'user_id': 227.0}, page_content='Flight Booking Details:\\nPNR: HZAVJJ\\nClass: ECONOMY\\nFrom: Cape Town International Airport (CPT)\\nTo: Indira Gandhi International Airport (DEL)\\nDeparture: 2024-07-11 14:35\\nArrival: 2024-07-12 08:10\\nLayover Duration: 55m')]\n",
            "\n",
            "Q: What’s my seat for the first flight?\n",
            "A: Based on the provided information, the seat details for the first flight segment (ET846) are as follows:\n",
            "\n",
            "- surendra singh: 21A\n",
            "- narinder kaur: 21B\n",
            "- samik singh: 21C\n",
            "\n",
            "[Document(id='0bad9075-85df-4f4d-8bb1-d97d50a71a56', metadata={'flight_number': 'ET686', 'pnr': 'HZAVJJ', 'segment_number': 1.0, 'ticket_id': 3183.0, 'type': 'segment', 'user_id': 227.0}, page_content='Flight Segment 2:\\nFlight Number: ET686\\nFrom: Addis Ababa Bole International Airport (ADD)\\nTo: Indira Gandhi International Airport (DEL)\\nDeparture: 2024-07-11 22:55\\nArrival: 2024-07-12 08:10\\n\\nPassenger Details for this segment:\\n- surendra singh:\\n  Seat: 21a\\n  Cabin Baggage: 7kg\\n  Check-in Baggage: 23kg\\n- narinder kaur:\\n  Seat: 21b\\n  Cabin Baggage: 7kg\\n  Check-in Baggage: 23kg\\n- samik singh:\\n  Seat: 21c\\n  Cabin Baggage: 7kg\\n  Check-in Baggage: 23kg'), Document(id='db355bcb-4de4-4f4b-ba2a-bc5b402e9a2d', metadata={'flight_number': 'ET846', 'pnr': 'HZAVJJ', 'segment_number': 0.0, 'ticket_id': 3183.0, 'type': 'segment', 'user_id': 227.0}, page_content='Flight Segment 1:\\nFlight Number: ET846\\nFrom: Cape Town International Airport (CPT)\\nTo: Addis Ababa Bole International Airport (ADD)\\nDeparture: 2024-07-11 14:35\\nArrival: 2024-07-11 22:00\\n\\nPassenger Details for this segment:\\n- surendra singh:\\n  Seat: 21a\\n  Cabin Baggage: 7kg\\n  Check-in Baggage: 23kg\\n- narinder kaur:\\n  Seat: 21b\\n  Cabin Baggage: 7kg\\n  Check-in Baggage: 23kg\\n- samik singh:\\n  Seat: 21c\\n  Cabin Baggage: 7kg\\n  Check-in Baggage: 23kg'), Document(id='f2d5832a-5a44-419e-a112-fd2f477949e2', metadata={'pnr': 'HZAVJJ', 'ticket_id': 3183.0, 'type': 'flight', 'user_id': 227.0}, page_content='Flight Booking Details:\\nPNR: HZAVJJ\\nClass: ECONOMY\\nFrom: Cape Town International Airport (CPT)\\nTo: Indira Gandhi International Airport (DEL)\\nDeparture: 2024-07-11 14:35\\nArrival: 2024-07-12 08:10\\nLayover Duration: 55m')]\n",
            "\n",
            "Q: Do I have checked baggage?\n",
            "A: Based on the provided information, yes, you have checked baggage. The checked baggage allowance for each passenger is 23kg.\n",
            "\n"
          ]
        }
      ]
    },
    {
      "cell_type": "markdown",
      "metadata": {
        "id": "2kNh44bEFeLe"
      },
      "source": [
        "---"
      ]
    }
  ],
  "metadata": {
    "colab": {
      "provenance": []
    },
    "kernelspec": {
      "display_name": "ml",
      "language": "python",
      "name": "python3"
    },
    "language_info": {
      "codemirror_mode": {
        "name": "ipython",
        "version": 3
      },
      "file_extension": ".py",
      "mimetype": "text/x-python",
      "name": "python",
      "nbconvert_exporter": "python",
      "pygments_lexer": "ipython3",
      "version": "3.9.6"
    },
    "vscode": {
      "interpreter": {
        "hash": "57376684f67c5d7b1589c855d7d0f1a1bdf8944ab1b903e711fdbf39434567bb"
      }
    }
  },
  "nbformat": 4,
  "nbformat_minor": 0
}